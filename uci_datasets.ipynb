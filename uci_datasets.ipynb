{
 "cells": [
  {
   "cell_type": "markdown",
   "metadata": {},
   "source": [
    "# PredDiff"
   ]
  },
  {
   "cell_type": "code",
   "execution_count": null,
   "metadata": {},
   "outputs": [],
   "source": [
    "import matplotlib.pylab as plt\n",
    "import shap #for plotting only\n",
    "from matplotlib import cm\n",
    "import numpy as np\n",
    "\n",
    "from pred_diff.datasets.uci_dataset import UCI_DataFrame, UCI_Bike_DataFrame, UCI_Adult_DataFrame\n",
    "from pred_diff.datasets.sikonja_synthetic import Sikonja_Synthetic_DataFrame\n",
    "\n",
    "\n",
    "from pred_diff.preddiff import *\n",
    "from pred_diff.tools.preddiff_plotting import *\n",
    "\n",
    "from sklearn.ensemble import RandomForestRegressor, RandomForestClassifier\n",
    "from pred_diff.imputers.impute import *"
   ]
  },
  {
   "cell_type": "markdown",
   "metadata": {},
   "source": [
    "Select dataset here:"
   ]
  },
  {
   "cell_type": "code",
   "execution_count": null,
   "metadata": {},
   "outputs": [],
   "source": [
    "#DATASET FROM GAL'S MC DROPOUT PAPER\n",
    "# dataDirectory = \"bostonHousing\" \n",
    "# dataDirectory = \"concrete\"\n",
    "# dataDirectory = \"energy\"\n",
    "# dataDirectory = \"kin8nm\"\n",
    "# dataDirectory = \"naval-propulsion-plant\"\n",
    "# dataDirectory = \"power-plant\"\n",
    "# dataDirectory = \"protein-tertiary-structure\"\n",
    "# dataDirectory = \"wine-quality-red\"\n",
    "# dataDirectory = \"yacht\"\n",
    "\n",
    "#OTHER UCI DATASETS\n",
    "dataDirectory = \"bike-sharing\"\n",
    "# dataDirectory = \"adult\"#aka census income (classification)\n",
    "\n",
    "#Sikonja synthetic datasets\n",
    "# dataDirectory = \"sikonja_0\""
   ]
  },
  {
   "cell_type": "code",
   "execution_count": null,
   "metadata": {},
   "outputs": [],
   "source": [
    "if(dataDirectory.startswith(\"sikonja\")):\n",
    "    dataset = int(dataDirectory.split(\"_\")[1])\n",
    "    uci_df = Sikonja_Synthetic_DataFrame(dataset=dataset)\n",
    "    regression = False\n",
    "elif(dataDirectory == \"bike-sharing\"):\n",
    "    uci_df=UCI_Bike_DataFrame(daily=True)\n",
    "    regression=True\n",
    "elif(dataDirectory == \"adult\"):\n",
    "    uci_df = UCI_Adult_DataFrame()\n",
    "    regression=False\n",
    "else:\n",
    "    uci_df = UCI_DataFrame(dataDirectory)\n",
    "    regression=True"
   ]
  },
  {
   "cell_type": "code",
   "execution_count": null,
   "metadata": {},
   "outputs": [],
   "source": [
    "uci_df.columns_features"
   ]
  },
  {
   "cell_type": "code",
   "execution_count": null,
   "metadata": {},
   "outputs": [],
   "source": [
    "if(regression):\n",
    "    reg = RandomForestRegressor(n_estimators=1000)\n",
    "else:\n",
    "    reg = RandomForestClassifier()\n",
    "x_df = uci_df.get_train_df().loc[:, uci_df.columns_features]#uci_df.get_train_df(1).loc[:, uci_df.columns_features]\n",
    "y_df = uci_df.get_train_df().loc[:, uci_df.columns_target]#uci_df.get_train_df(1).loc[:, uci_df.columns_target]\n",
    "reg.fit(x_df, y_df)\n",
    "\n",
    "x_df_test = uci_df.get_test_df().loc[:, uci_df.columns_features]#uci_df.get_train_df(1).loc[:, uci_df.columns_features]\n",
    "y_df_test = uci_df.get_test_df().loc[:, uci_df.columns_target]#uci_df.get_train_df(1).loc[:, uci_df.columns_target]"
   ]
  },
  {
   "cell_type": "code",
   "execution_count": null,
   "metadata": {},
   "outputs": [],
   "source": [
    "np.mean(y_df_test)"
   ]
  },
  {
   "cell_type": "code",
   "execution_count": null,
   "metadata": {},
   "outputs": [],
   "source": [
    "np.sqrt(np.mean(np.power(reg.predict(x_df_test)-np.array(y_df_test),2)))"
   ]
  },
  {
   "cell_type": "markdown",
   "metadata": {},
   "source": [
    "## Relevances"
   ]
  },
  {
   "cell_type": "markdown",
   "metadata": {},
   "source": [
    "Select desired imputer"
   ]
  },
  {
   "cell_type": "code",
   "execution_count": null,
   "metadata": {},
   "outputs": [],
   "source": [
    "imputer_selection=\"TrainSetImputer\"\n",
    "# imputer_selection=\"TrainSetMahalanobisImputer\"\n",
    "#imputer_selection=\"IterativeImputerEnhanced\"\n",
    "n_group = 5"
   ]
  },
  {
   "cell_type": "code",
   "execution_count": null,
   "metadata": {},
   "outputs": [],
   "source": [
    "if(imputer_selection==\"TrainSetImputer\"):\n",
    "    mvi = PredDiff(reg, x_df, imputer_cls=impute.TrainSetImputer,regression=regression, n_group=n_group)\n",
    "elif(imputer_selection==\"TrainSetMahalanobisImputer\"):\n",
    "    mvi = PredDiff(reg, x_df, imputer_cls=impute.TrainSetMahalanobisImputer,regression=regression, \n",
    "                   batch_size_test=512, sigma=10, gpu=1, , n_group=n_group)\n",
    "elif(imputer_selection==\"IterativeImputerEnhanced\"):\n",
    "    mvi = PredDiff(reg, x_df, imputer_cls=impute.IterativeImputerEnhanced,regression=regression, n_group=n_group)\n",
    "\n",
    "m_list = mvi.relevances(x_df_test, n_imputations=100)"
   ]
  },
  {
   "cell_type": "code",
   "execution_count": null,
   "metadata": {},
   "outputs": [],
   "source": [
    "assert False, 'SHAP format has changed, needs fixing'\n",
    "e=preddiff_list_to_shap_explanation(m_list,x_df_test) \n",
    "#shap.plots.bar(e)\n",
    "#shap.plots.bar(e[0])\n",
    "#shap.plots.beeswarm(e)\n",
    "#shap.plots.scatter(e[:,\"temp\"],color=e[:,\"atemp\"])\n",
    "    \n",
    "fig, ax = plt.subplots(figsize=(16, 8))\n",
    "shap.plots.beeswarm(e,plot_size=None,show=False)\n",
    "ax.set_xlabel('m-value')\n"
   ]
  },
  {
   "cell_type": "code",
   "execution_count": null,
   "metadata": {
    "scrolled": false
   },
   "outputs": [],
   "source": [
    "\n",
    "for i,col in enumerate(x_df.columns):\n",
    "    if(regression):\n",
    "        plt.title(col)\n",
    "        plt.errorbar(x_df_test[col], m_list[i]['mean'], m_list[i]['high']-m_list[i]['low'], marker='.', linestyle='None')\n",
    "        plt.show()\n",
    "    else:\n",
    "        #just class 1 for now\n",
    "        for c in range(len(m_list[0][\"mean\"].iloc[0])):\n",
    "            plt.title(col+\" class \"+str(c))\n",
    "            m=m_list[i]['mean'].apply(lambda x:x[c])\n",
    "            s=m_list[i]['std'].apply(lambda x:x[c])\n",
    "            #plot everything\n",
    "            #plt.scatter(x_df[col],m, marker='.',s=10, linestyle='None',c=y_df,cmap=cm.coolwarm)\n",
    "            #plot just the target class\n",
    "            plt.errorbar(x_df_test.iloc[np.where(y_df_test==1)[0]][col],m.iloc[np.where(y_df_test==1)[0]],s.iloc[np.where(y_df==1)[0]], marker='.', linestyle='None')\n",
    "            plt.axhline(0)\n",
    "            plt.show()"
   ]
  },
  {
   "cell_type": "code",
   "execution_count": null,
   "metadata": {},
   "outputs": [],
   "source": [
    "if(regression):\n",
    "    m_stats = calculate_global_preddiff_stats(m_list,uci_df.columns_features)\n",
    "    plot_global_preddiff_stats(m_stats)\n",
    "else:\n",
    "    m_stats = calculate_global_preddiff_stats_clas(m_list,y_df,uci_df.columns_features)\n",
    "    for c in range(len(y_df[0])):\n",
    "        print(\"Class\",c)\n",
    "        plot_global_preddiff_stats(m_stats[c],min_value=0)"
   ]
  },
  {
   "cell_type": "markdown",
   "metadata": {},
   "source": [
    "## Interactions"
   ]
  },
  {
   "cell_type": "code",
   "execution_count": null,
   "metadata": {},
   "outputs": [],
   "source": [
    "#pick 5 most important features\n",
    "interaction_vars = np.array(m_stats.iloc[:5].col)\n",
    "interaction_cols =[]\n",
    "\n",
    "for i in range(len(interaction_vars)):\n",
    "    for j in range(i+1,len(interaction_vars)):\n",
    "        interaction_cols.append([[interaction_vars[i]],[interaction_vars[j]]])\n",
    "\n",
    "interaction_cols_txt = [\"&\".join(i1)+\" AND \\n\"+\"&\".join(i2) for [i1,i2] in interaction_cols]"
   ]
  },
  {
   "cell_type": "code",
   "execution_count": null,
   "metadata": {
    "scrolled": true
   },
   "outputs": [],
   "source": [
    "m_int = mvi.interactions(x_df_test, interaction_cols, n_imputations=200)"
   ]
  },
  {
   "cell_type": "code",
   "execution_count": null,
   "metadata": {},
   "outputs": [],
   "source": [
    "m_int_stats = calculate_global_preddiff_stats(m_int,interaction_cols_txt)\n",
    "plot_global_preddiff_stats(m_int_stats)"
   ]
  },
  {
   "cell_type": "code",
   "execution_count": null,
   "metadata": {},
   "outputs": [],
   "source": []
  }
 ],
 "metadata": {
  "kernelspec": {
   "display_name": "Python 3",
   "language": "python",
   "name": "python3"
  },
  "language_info": {
   "codemirror_mode": {
    "name": "ipython",
    "version": 3
   },
   "file_extension": ".py",
   "mimetype": "text/x-python",
   "name": "python",
   "nbconvert_exporter": "python",
   "pygments_lexer": "ipython3",
   "version": "3.8.5"
  }
 },
 "nbformat": 4,
 "nbformat_minor": 4
}
