{
 "cells": [
  {
   "cell_type": "code",
   "execution_count": null,
   "metadata": {},
   "outputs": [],
   "source": [
    "%load_ext autoreload\n",
    "%autoreload 2"
   ]
  },
  {
   "cell_type": "code",
   "execution_count": null,
   "metadata": {},
   "outputs": [],
   "source": [
    "# create results dir\n",
    "! mkdir -p nhanes_output/xgb/TrainSetImputer/interactions\n",
    "! mkdir -p nhanes_output/xgb/TrainSetMahalanobisImputer/interactions\n",
    "! mkdir -p nhanes_output/xgb/IterativeImputerEnhanced/interactions\n",
    "! mkdir -p nhanes_output/xgb/TrainSetImputer/relevances\n",
    "! mkdir -p nhanes_output/xgb/TrainSetMahalanobisImputer/relevances\n",
    "! mkdir -p nhanes_output/xgb/IterativeImputerEnhanced/relevances\n",
    "\n",
    "! mkdir -p nhanes_output/rf/TrainSetImputer/interactions\n",
    "! mkdir -p nhanes_output/rf/TrainSetMahalanobisImputer/interactions\n",
    "! mkdir -p nhanes_output/rf/IterativeImputerEnhanced/interactions\n",
    "! mkdir -p nhanes_output/rf/TrainSetImputer/relevances\n",
    "! mkdir -p nhanes_output/rf/TrainSetMahalanobisImputer/relevances\n",
    "! mkdir -p nhanes_output/rf/IterativeImputerEnhanced/relevances"
   ]
  },
  {
   "cell_type": "markdown",
   "metadata": {},
   "source": [
    "# NHANES"
   ]
  },
  {
   "cell_type": "code",
   "execution_count": null,
   "metadata": {},
   "outputs": [],
   "source": [
    "from pred_diff.datasets.loadnhanes import NHANES_DataFrame\n",
    "import numpy as np\n",
    "\n",
    "from pred_diff import preddiff\n",
    "from pred_diff.tools.preddiff_plotting import *\n",
    "from pred_diff.imputers.impute import *\n",
    "import pickle\n",
    "import matplotlib.pyplot as plt\n",
    "from matplotlib  import cm\n",
    "\n",
    "from pred_diff.tools import init_plt\n",
    "\n",
    "# paper style\n",
    "# init_plt.update_NHANES()\n",
    "# init_plt.update_figsize(fig_width_pt=234.88)           # 234.88 is column in paper\n",
    "# size_title = 6\n",
    "\n",
    "# default\n",
    "plt.style.use('default')\n",
    "size_title = 12"
   ]
  },
  {
   "cell_type": "code",
   "execution_count": null,
   "metadata": {},
   "outputs": [],
   "source": [
    "nhanes_df = NHANES_DataFrame()"
   ]
  },
  {
   "cell_type": "code",
   "execution_count": null,
   "metadata": {},
   "outputs": [],
   "source": [
    "print(\"y>0 (not surviving):\",np.sum(nhanes_df.y>0),\"\\ny<0 (surviving):\",np.sum(nhanes_df.y<0))"
   ]
  },
  {
   "cell_type": "markdown",
   "metadata": {},
   "source": [
    "## Fit model"
   ]
  },
  {
   "cell_type": "code",
   "execution_count": null,
   "metadata": {},
   "outputs": [],
   "source": [
    "# model_selection=\"xgb\"\n",
    "model_selection=\"rf\""
   ]
  },
  {
   "cell_type": "code",
   "execution_count": null,
   "metadata": {},
   "outputs": [],
   "source": [
    "if(model_selection == \"xgb\"):\n",
    "    import xgboost\n",
    "    #c.f. https://github.com/suinleelab/treeexplainer-study/blob/master/notebooks/mortality/NHANES%20I%20Analysis.ipynb\n",
    "\n",
    "    params = {\n",
    "        \"learning_rate\": 0.001,\n",
    "        \"n_estimators\": 6765,\n",
    "        \"max_depth\": 4,\n",
    "        \"subsample\": 0.5, \n",
    "        \"reg_lambda\": 5.5,\n",
    "        \"reg_alpha\": 0,\n",
    "        \"colsample_bytree\": 1\n",
    "    }\n",
    "\n",
    "    reg = xgboost.XGBRegressor(\n",
    "        max_depth=params[\"max_depth\"],\n",
    "        n_estimators=params[\"n_estimators\"],\n",
    "        learning_rate=params[\"learning_rate\"],#math.pow(10, params[\"learning_rate\"]),\n",
    "        subsample=params[\"subsample\"],\n",
    "        reg_lambda=params[\"reg_lambda\"],\n",
    "        colsample_bytree=params[\"colsample_bytree\"],\n",
    "        reg_alpha=params[\"reg_alpha\"],\n",
    "        n_jobs=16,\n",
    "        random_state=1,\n",
    "        objective=\"survival:cox\",\n",
    "        base_score=1\n",
    "    )\n",
    "    reg.fit(\n",
    "        nhanes_df.X_strain, nhanes_df.y_strain, verbose=500,\n",
    "        eval_set=[(nhanes_df.X_valid, nhanes_df.y_valid)],\n",
    "        #eval_metric=\"logloss\",\n",
    "        early_stopping_rounds=10000\n",
    "    )\n",
    "elif(model_selection == \"rf\"):\n",
    "    from sklearn.ensemble import RandomForestRegressor\n",
    "    \n",
    "    reg = RandomForestRegressor(n_estimators=1000,max_depth=4)\n",
    "\n",
    "    reg.fit(nhanes_df.X_strain_imp, nhanes_df.y_strain)\n",
    "\n",
    "else:\n",
    "    assert(False)"
   ]
  },
  {
   "cell_type": "code",
   "execution_count": null,
   "metadata": {},
   "outputs": [],
   "source": [
    "def c_statistic_harrell(pred, labels):\n",
    "    total = 0\n",
    "    matches = 0\n",
    "    for i in range(len(labels)):\n",
    "        for j in range(len(labels)):\n",
    "            if labels[j] > 0 and abs(labels[i]) > labels[j]:\n",
    "                total += 1\n",
    "                if pred[j] > pred[i]:\n",
    "                    matches += 1\n",
    "    return matches/total"
   ]
  },
  {
   "cell_type": "code",
   "execution_count": null,
   "metadata": {},
   "outputs": [],
   "source": [
    "if(model_selection == \"xgb\"):\n",
    "    print(c_statistic_harrell(reg.predict(nhanes_df.X_test), nhanes_df.y_test))#,output_margin=True\n",
    "else:\n",
    "    print(c_statistic_harrell(reg.predict(nhanes_df.X_test_imp), nhanes_df.y_test))"
   ]
  },
  {
   "cell_type": "code",
   "execution_count": null,
   "metadata": {},
   "outputs": [],
   "source": [
    "pickle.dump(reg, open(model_selection+\".pkl\", 'wb'))"
   ]
  },
  {
   "cell_type": "code",
   "execution_count": null,
   "metadata": {},
   "outputs": [],
   "source": [
    "reg = pickle.load(open(model_selection+\".pkl\", 'rb'))"
   ]
  },
  {
   "cell_type": "markdown",
   "metadata": {},
   "source": [
    "## Compute Relevances"
   ]
  },
  {
   "cell_type": "code",
   "execution_count": null,
   "metadata": {},
   "outputs": [],
   "source": [
    "imputer_selection = \"TrainSetImputer\"\n",
    "# imputer_selection = \"TrainSetMahalanobisImputer\"\n",
    "#imputer_selection = \"IterativeImputerEnhanced\""
   ]
  },
  {
   "cell_type": "code",
   "execution_count": null,
   "metadata": {
    "pycharm": {
     "is_executing": true
    }
   },
   "outputs": [],
   "source": [
    "if(imputer_selection==\"IterativeImputer\"):\n",
    "    imputer = IterativeImputer\n",
    "elif(imputer_selection==\"IterativeImputerEnhanced\"):\n",
    "    imputer = IterativeImputerEnhanced\n",
    "elif(imputer_selection==\"TrainSetImputer\"):\n",
    "    imputer = TrainSetImputer\n",
    "elif(imputer_selection==\"TrainSetMahalanobisImputer\"):\n",
    "    imputer = TrainSetMahalanobisImputer\n",
    "elif(imputer_selection==\"GaussianProcessImputer\"):\n",
    "    imputer = GaussianProcessImputer\n",
    "elif(imputer_selection==\"MedianImputer\"):\n",
    "    imputer = MedianImputer\n",
    "else:\n",
    "    assert(False)\n",
    "if(imputer_selection == \"TrainSetMahalanobisImputer\"):\n",
    "    train_ids = np.random.permutation(range(len(nhanes_df.X_strain_imp)))\n",
    "    mvi = preddiff.PredDiff(reg,nhanes_df.X_strain_imp.iloc[train_ids], imputer_cls=imputer, sigma=1,gpus=1,batch_size_test=256)\n",
    "else:\n",
    "    mvi = preddiff.PredDiff(reg,nhanes_df.X_strain_imp, imputer_cls=imputer)\n",
    "\n",
    "m_list = mvi.relevances(nhanes_df.X_test_imp,n_imputations=100)"
   ]
  },
  {
   "cell_type": "code",
   "execution_count": null,
   "metadata": {},
   "outputs": [],
   "source": [
    "m_stats = calculate_global_preddiff_stats(m_list,nhanes_df.X.columns)\n"
   ]
  },
  {
   "cell_type": "code",
   "execution_count": null,
   "metadata": {
    "pycharm": {
     "name": "#%%\n"
    }
   },
   "outputs": [],
   "source": [
    "plot_global_preddiff_stats(m_stats,title=\"Global feature importance\",filename=\"./nhanes_output/\"+model_selection+\"/\"+imputer_selection+\"/relevances/nhanes_global_\"+imputer_selection+\"_\"+model_selection+\".pdf\")"
   ]
  },
  {
   "cell_type": "code",
   "execution_count": null,
   "metadata": {
    "scrolled": false
   },
   "outputs": [],
   "source": [
    "selected_cols = list(set([\"age\", \"systolic blood pressure\", \"sex female\"]).union(set(m_stats.iloc[:5].col)))\n",
    "\n",
    "selected_ids = [np.where(nhanes_df.columns_all == x)[0][0] for x in selected_cols]\n",
    "selected_xlabels = [x.replace(\"age\",\"age[a]\").replace(\"systolic blood pressure\",\"systolic blood pressure [mmHg]\") for x in selected_cols]\n",
    "for j,i in enumerate(selected_ids):\n",
    "    plt.xlabel(selected_cols[j])\n",
    "    plt.ylabel(\"relevance\")\n",
    "    plt.title(selected_cols[j], size=size_title)\n",
    "    plt.scatter(nhanes_df.X_test[nhanes_df.columns_all[i]], m_list[i]['mean'],c=nhanes_df.X_test[\"age\"],cmap=cm.coolwarm,zorder=1)#m_list[i]['std']\n",
    "    xlim = plt.xlim()\n",
    "    ylim = plt.ylim()\n",
    "    plt.errorbar(nhanes_df.X_test[nhanes_df.columns_all[i]], m_list[i]['mean'], np.stack([m_list[i]['high']-m_list[i]['mean'],m_list[i]['mean']-m_list[i]['low']],axis=0),ecolor=\"grey\",marker='',linestyle='None',elinewidth=0.5,capsize=1,alpha=0.8,zorder=0)\n",
    "    if(selected_cols[j]==\"white blood cells\"):\n",
    "        xlim = (0,20)\n",
    "    plt.xlim(xlim)\n",
    "    plt.ylim(ylim)\n",
    "    cbar = plt.colorbar()\n",
    "    cbar.ax.set_title(\"age\", size=size_title)\n",
    "    plt.tight_layout(pad=0.1)\n",
    "    plt.savefig(\"./nhanes_output/\"+model_selection+\"/\"+imputer_selection+\"/relevances/nhanes_\"+selected_cols[j].replace(\" \",\"_\")+\"_\"+imputer_selection+\"_\"+model_selection+\".pdf\",bbox_inches='tight')\n",
    "    plt.show()\n",
    "    "
   ]
  },
  {
   "cell_type": "markdown",
   "metadata": {},
   "source": [
    "## Compute interaction relevances"
   ]
  },
  {
   "cell_type": "code",
   "execution_count": null,
   "metadata": {},
   "outputs": [],
   "source": [
    "#pick 5 most important features\n",
    "interaction_vars = np.array(m_stats.iloc[:5].col) #[\"age\",\"systolic blood pressure\",\"sex female\"]\n",
    "\n",
    "interaction_cols =[]\n",
    "\n",
    "for i in range(len(interaction_vars)):\n",
    "    for j in range(i+1,len(interaction_vars)):\n",
    "        interaction_cols.append([[interaction_vars[i]],[interaction_vars[j]]])\n",
    "\n",
    "interaction_cols_txt = [\"&\".join(i1)+\" AND \\n\"+\"&\".join(i2) for [i1,i2] in interaction_cols]"
   ]
  },
  {
   "cell_type": "code",
   "execution_count": null,
   "metadata": {},
   "outputs": [],
   "source": [
    "print(interaction_vars)"
   ]
  },
  {
   "cell_type": "code",
   "execution_count": null,
   "metadata": {},
   "outputs": [],
   "source": [
    "m_int = mvi.interactions(nhanes_df.X_test_imp, interaction_cols, n_imputations=200)"
   ]
  },
  {
   "cell_type": "code",
   "execution_count": null,
   "metadata": {},
   "outputs": [],
   "source": [
    "m_int_stats = calculate_global_preddiff_stats(m_int,interaction_cols_txt)"
   ]
  },
  {
   "cell_type": "code",
   "execution_count": null,
   "metadata": {},
   "outputs": [],
   "source": [
    "plot_global_preddiff_stats(m_int_stats,title=\"Global interaction importance\",filename=\"./nhanes_output/\"+model_selection+\"/\"+imputer_selection+\"/interactions/nhanes_interaction_global_\"+imputer_selection+\"_\"+model_selection+\".pdf\")"
   ]
  },
  {
   "cell_type": "code",
   "execution_count": null,
   "metadata": {},
   "outputs": [],
   "source": [
    "for i,(ic,ict) in enumerate(zip(interaction_cols,interaction_cols_txt)):\n",
    "    fig, axs = plt.subplots(1,2, figsize=(15,5))\n",
    "    for j in [0,1]:\n",
    "        ax = axs[j]\n",
    "        im=ax.scatter(nhanes_df.X_test[ic[j][0]], m_int[i]['mean'], c=nhanes_df.X_test[ic[1-j][0]],cmap=cm.coolwarm,zorder=1)\n",
    "        xlim = ax.get_xlim()\n",
    "        ylim = ax.get_ylim()\n",
    "        ax.errorbar(nhanes_df.X_test[ic[j][0]], m_int[i]['mean'], np.stack([m_int[i]['high']-m_int[i]['mean'],m_int[i]['mean']-m_int[i]['low']],axis=0), marker='', linestyle='None',elinewidth=0.5,ecolor=\"grey\",capsize=1,alpha=0.8,zorder=0)\n",
    "        \n",
    "        if(ic[j][0]==\"white blood cells\"):\n",
    "            xlim = (0,20)\n",
    "        ax.set_xlim(xlim)\n",
    "        ax.set_ylim(ylim)\n",
    "        ax.set_title(ict, size=size_title)\n",
    "        ax.set_xlabel(ic[j][0])\n",
    "        cbar = fig.colorbar(im, ax=ax)\n",
    "        cbar.ax.set_title(ic[1-j][0], size=size_title)\n",
    "        ax.set_ylabel(\"Interaction relevance\")\n",
    "\n",
    "#again for export\n",
    "for i,(ic,ict) in enumerate(zip(interaction_cols,interaction_cols_txt)):\n",
    "    for j in [0,1]:\n",
    "        plt.figure()\n",
    "        plt.scatter(nhanes_df.X_test[ic[j][0]], m_int[i]['mean'], c=nhanes_df.X_test[ic[1-j][0]],cmap=cm.coolwarm,zorder=1)\n",
    "        xlim = plt.xlim()\n",
    "        ylim = plt.ylim()\n",
    "        plt.errorbar(nhanes_df.X_test[ic[j][0]], m_int[i]['mean'], np.stack([m_int[i]['high']-m_int[i]['mean'],m_int[i]['mean']-m_int[i]['low']],axis=0), marker='', linestyle='None',elinewidth=1,ecolor=\"grey\",capsize=0.5,alpha=0.8,zorder=0)\n",
    "        if(ic[j][0]==\"white blood cells\"):\n",
    "            xlim = (0,20)\n",
    "        plt.xlim(xlim)\n",
    "        plt.ylim(ylim)\n",
    "    \n",
    "        plt.title(ict, size=size_title)\n",
    "        plt.xlabel(ic[j][0])\n",
    "        cbar = plt.colorbar()\n",
    "        cbar.ax.set_title(ic[1-j][0], size=size_title)\n",
    "        plt.ylabel(\"Interaction relevance\")\n",
    "        plt.tight_layout(pad=0.1)\n",
    "        plt.savefig(\"./nhanes_output/\"+model_selection+\"/\"+imputer_selection+\"/interactions/nhanes_interaction_\"+ic[j][0].replace(\" \",\"_\")+\"_AND_\"+ic[1-j][0].replace(\" \",\"_\")+imputer_selection+\"_\"+model_selection+\".pdf\", bbox_inches='tight')"
   ]
  },
  {
   "cell_type": "markdown",
   "metadata": {},
   "source": [
    "# SHAP comparison"
   ]
  },
  {
   "cell_type": "code",
   "execution_count": null,
   "metadata": {},
   "outputs": [],
   "source": [
    "import shap\n",
    "import matplotlib.pyplot as plt"
   ]
  },
  {
   "cell_type": "code",
   "execution_count": null,
   "metadata": {},
   "outputs": [],
   "source": [
    "explainer = shap.TreeExplainer(reg)\n",
    "shap_relevances = explainer.shap_values(nhanes_df.X_test)"
   ]
  },
  {
   "cell_type": "code",
   "execution_count": null,
   "metadata": {},
   "outputs": [],
   "source": [
    "f = plt.figure(figsize=(4,6))\n",
    "shap.summary_plot(\n",
    "    shap_relevances, nhanes_df.X_test, feature_names=nhanes_df.X.columns, plot_type=\"bar\",\n",
    "    max_display=15, plot_size=None, show=True\n",
    ")\n",
    "plt.show()"
   ]
  },
  {
   "cell_type": "code",
   "execution_count": null,
   "metadata": {},
   "outputs": [],
   "source": []
  }
 ],
 "metadata": {
  "kernelspec": {
   "display_name": "Python 3",
   "language": "python",
   "name": "python3"
  },
  "language_info": {
   "codemirror_mode": {
    "name": "ipython",
    "version": 3
   },
   "file_extension": ".py",
   "mimetype": "text/x-python",
   "name": "python",
   "nbconvert_exporter": "python",
   "pygments_lexer": "ipython3",
   "version": "3.8.5"
  }
 },
 "nbformat": 4,
 "nbformat_minor": 4
}
