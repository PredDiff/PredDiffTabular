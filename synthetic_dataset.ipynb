{
 "cells": [
  {
   "cell_type": "markdown",
   "metadata": {},
   "source": [
    "# Regression: synthetic dataset"
   ]
  },
  {
   "cell_type": "code",
   "execution_count": null,
   "metadata": {
    "pycharm": {
     "name": "#%%\n"
    }
   },
   "outputs": [],
   "source": [
    "import matplotlib.pyplot as plt\n",
    "import numpy as np\n",
    "import pandas as pd\n",
    "from sklearn.ensemble import RandomForestRegressor  # for regression\n",
    "from sklearn.neural_network import MLPRegressor\n",
    "from sklearn.gaussian_process import GaussianProcessRegressor\n",
    "from sklearn.gaussian_process.kernels import RBF, WhiteKernel\n",
    "import sklearn\n",
    "import copy\n",
    "\n",
    "import shap\n",
    "\n",
    "from pred_diff import preddiff\n",
    "from pred_diff.imputers import impute\n",
    "import pred_diff.tools.plot as c_plt\n",
    "from pred_diff.datasets.datasets_regression import SyntheticDataset\n",
    "from pred_diff.tools import init_plt"
   ]
  },
  {
   "cell_type": "markdown",
   "metadata": {
    "pycharm": {
     "name": "#%% md\n"
    }
   },
   "source": [
    "Select plotting style"
   ]
  },
  {
   "cell_type": "code",
   "execution_count": null,
   "metadata": {
    "pycharm": {
     "name": "#%%\n"
    }
   },
   "outputs": [],
   "source": [
    "# paper style\n",
    "init_plt.update_rcParams(fig_width_pt=234.88*2)\n",
    "\n",
    "# default\n",
    "# plt.style.use('default')\n"
   ]
  },
  {
   "cell_type": "markdown",
   "metadata": {
    "pycharm": {
     "name": "#%% md\n"
    }
   },
   "source": [
    "### Set-up experiment\n",
    "1. Specify mean and covariance for dataset\n"
   ]
  },
  {
   "cell_type": "code",
   "execution_count": null,
   "metadata": {
    "pycharm": {
     "name": "#%%\n"
    }
   },
   "outputs": [],
   "source": [
    "# create synthetic dataset\n",
    "cov = [[1, 0., 0., 0.],\n",
    "       [0., 1., 0., 0.],\n",
    "       [0., 0., 1., 0.],\n",
    "       [0., 0., 0., 1.]]\n",
    "mean = np.array([0, 0, 0, 0])"
   ]
  },
  {
   "cell_type": "markdown",
   "metadata": {
    "pycharm": {
     "name": "#%% md\n"
    }
   },
   "source": [
    "2. Create custom target functions"
   ]
  },
  {
   "cell_type": "code",
   "execution_count": null,
   "metadata": {
    "pycharm": {
     "name": "#%%\n"
    }
   },
   "outputs": [],
   "source": [
    "def f(x: np.ndarray) -> np.ndarray:\n",
    "    x0 = x[:, 0]; x1 = x[:, 1]; x2 = x[:, 2]; x3 = x[:, 3]\n",
    "\n",
    "    y_additive = x0 ** 2 + 3 * x1 + np.sin(np.pi * x2) - 0.5 * x3 ** 3\n",
    "    y_interaction = 2 * np.sign(x0) * np.abs(x1)\n",
    "\n",
    "    return y_additive + y_interaction\n",
    "\n",
    "dataset = SyntheticDataset(function=f, mean=mean, cov=cov)"
   ]
  },
  {
   "cell_type": "markdown",
   "metadata": {
    "pycharm": {
     "name": "#%% md\n"
    }
   },
   "source": [
    "3. Select model"
   ]
  },
  {
   "cell_type": "code",
   "execution_count": null,
   "metadata": {
    "pycharm": {
     "name": "#%%\n"
    }
   },
   "outputs": [],
   "source": [
    "model_selection = 'RandomForest'\n",
    "# model_selection = 'FullyConnectedNetwork'\n",
    "# model_selection = 'GaussianProcess'"
   ]
  },
  {
   "cell_type": "markdown",
   "metadata": {
    "pycharm": {
     "name": "#%% md\n"
    }
   },
   "source": [
    "4. Train model"
   ]
  },
  {
   "cell_type": "code",
   "execution_count": null,
   "metadata": {
    "pycharm": {
     "name": "#%%\n"
    }
   },
   "outputs": [],
   "source": [
    "x_df, y_df = dataset.load_pd()\n",
    "x_train, x_test, y_train, y_test = sklearn.model_selection.train_test_split(x_df, y_df, test_size=0.1)\n",
    "if model_selection == 'RandomForest':\n",
    "    reg = RandomForestRegressor(n_estimators=100)\n",
    "elif model_selection == 'FullyConnectedNetwork':\n",
    "    reg = MLPRegressor([int(x_df.shape[0])])\n",
    "elif model_selection == 'GaussianProcess':\n",
    "    reg = GaussianProcessRegressor(1.0 * RBF() + WhiteKernel())\n",
    "else:\n",
    "    assert False, f'please enter a valid model_selection = {model_selection}'\n",
    "\n",
    "reg.fit(x_train, y_train)\n",
    "print(f\"train data:     \"\n",
    "      f\"score = {reg.score(x_train, y_train):.3f}\\n\"\n",
    "      f\"test data:      \"\n",
    "      f\"score = {reg.score(x_test, y_test):.3f}\")"
   ]
  },
  {
   "cell_type": "markdown",
   "metadata": {
    "pycharm": {
     "name": "#%% md\n"
    }
   },
   "source": [
    "## *PredDiff*\n",
    "### Relevances and interactions\n",
    "Figure 1: *PredDiff* contributions"
   ]
  },
  {
   "cell_type": "code",
   "execution_count": null,
   "metadata": {
    "pycharm": {
     "name": "#%%\n"
    }
   },
   "outputs": [],
   "source": [
    "n_imputations = 200\n",
    "\n",
    "imputer = impute.GaussianProcessImputer\n",
    "explainer = preddiff.PredDiff(model=reg, df_train=copy.deepcopy(x_train), imputer_cls=imputer, \n",
    "                              fast_evaluation=True, n_group=50)\n",
    "\n",
    "c_plt.scatter_m_plots(reg, df_train=copy.deepcopy(x_train), df_test=copy.deepcopy(x_test), imputer=imputer,\n",
    "                      n_imputations=n_imputations)\n",
    "\n",
    "\n",
    "# use interaction matrix\n",
    "relevance_matrix = explainer.interaction_matrix(df_test=x_test, n_imputations=n_imputations)\n",
    "c = pd.DataFrame(np.diagonal(relevance_matrix, axis1=1, axis2=2), columns=x_test.columns)\n",
    "c_plt._scatter(c=c, x_df=x_test, method=f'Residual PredDiff, n={n_imputations}')\n",
    "\n",
    "c_plt.scatter_2d_heatmap(x=x_test['0'], y=x_test['1'], relevance=relevance_matrix[:, 1, 0],\n",
    "                         title='PredDiff - 0 vs. 1', axis_symmetric=True)"
   ]
  },
  {
   "cell_type": "markdown",
   "metadata": {
    "pycharm": {
     "name": "#%% md\n"
    }
   },
   "source": [
    "Figure 2: Computational dependence fo *PredDiff*"
   ]
  },
  {
   "cell_type": "code",
   "execution_count": null,
   "metadata": {
    "pycharm": {
     "name": "#%%\n"
    }
   },
   "outputs": [],
   "source": [
    "for n_imputations in [5, 50, 200]:\n",
    "    c_plt.plot_n_dependence(reg=reg, x_train=x_train, x_test=x_test, n_imputations=n_imputations)\n"
   ]
  },
  {
   "cell_type": "markdown",
   "metadata": {
    "pycharm": {
     "name": "#%% md\n"
    }
   },
   "source": [
    "### Comparison to SHAP\n",
    "Appendix"
   ]
  },
  {
   "cell_type": "code",
   "execution_count": null,
   "metadata": {
    "pycharm": {
     "name": "#%%\n"
    }
   },
   "outputs": [],
   "source": [
    "explainer = shap.TreeExplainer(reg)\n",
    "shap_interaction_values = explainer.shap_interaction_values(x_test)\n",
    "c_plt.scatter_2d_heatmap(x=x_test['0'], y=x_test['1'], relevance=shap_interaction_values[:, 1, 0],\n",
    "                         title='SHAP TreeExplainer - 0 vs. 1', axis_symmetric=True)\n",
    "residual_feat_contribution = np.diagonal(shap_interaction_values, axis1=1, axis2=2)\n",
    "\n",
    "c = pd.DataFrame(residual_feat_contribution, columns=x_test.columns)\n",
    "c_plt._scatter(c=c, x_df=x_test, method='SHAP - residual feature contributions')\n",
    "\n",
    "c_plt.scatter_contributions(reg, x_test, method='TreeExplainer')\n",
    "c_plt.scatter_contributions(reg, x_test, method='KernelExplainer', x_train=x_train)"
   ]
  },
  {
   "cell_type": "code",
   "execution_count": null,
   "metadata": {
    "pycharm": {
     "name": "#%%\n"
    }
   },
   "outputs": [],
   "source": []
  }
 ],
 "metadata": {
  "kernelspec": {
   "display_name": "PyCharm (InterpretableML)",
   "language": "python",
   "name": "pycharm-7e489a09"
  }
 },
 "nbformat": 4,
 "nbformat_minor": 1
}
